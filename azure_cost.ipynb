{
 "cells": [
  {
   "cell_type": "code",
   "execution_count": 58,
   "id": "e5d0760b",
   "metadata": {},
   "outputs": [],
   "source": [
    "import pandas as pd\n",
    "import numpy as np\n",
    "import matplotlib.pyplot as plt\n",
    "import seaborn as sns"
   ]
  },
  {
   "cell_type": "code",
   "execution_count": 59,
   "id": "40d81694",
   "metadata": {},
   "outputs": [
    {
     "data": {
      "application/vnd.microsoft.datawrangler.viewer.v0+json": {
       "columns": [
        {
         "name": "index",
         "rawType": "int64",
         "type": "integer"
        },
        {
         "name": "RowKey",
         "rawType": "int64",
         "type": "integer"
        },
        {
         "name": "Question",
         "rawType": "object",
         "type": "string"
        },
        {
         "name": "Tokens",
         "rawType": "int64",
         "type": "integer"
        },
        {
         "name": "RetrievalTime",
         "rawType": "float64",
         "type": "float"
        },
        {
         "name": "UserID",
         "rawType": "object",
         "type": "string"
        },
        {
         "name": "Date",
         "rawType": "object",
         "type": "string"
        }
       ],
       "ref": "cef86f7b-b3e5-4d8d-ba51-b1fa19535ab3",
       "rows": [
        [
         "0",
         "1",
         "How can I add a document to a material in mda module",
         "246",
         "9.308474779129028",
         "feb28430-fa54-4b67-a7e1-24261a7e2bce.01eeb0e4-b179-42b4-aa5c-295bcb9dfe7e",
         "07/31/2024, 11:46:57"
        ],
        [
         "1",
         "2",
         "How can I add an alternative component to a bom not using an api",
         "254",
         "10.236339330673218",
         "feb28430-fa54-4b67-a7e1-24261a7e2bce.01eeb0e4-b179-42b4-aa5c-295bcb9dfe7e",
         "07/31/2024, 10:48:17"
        ],
        [
         "2",
         "3",
         "How can I add an alternative component to a bom not using an api",
         "266",
         "11.503324508666992",
         "feb28430-fa54-4b67-a7e1-24261a7e2bce.01eeb0e4-b179-42b4-aa5c-295bcb9dfe7e",
         "07/31/2024, 10:50:29"
        ],
        [
         "3",
         "4",
         "How can I add a document to a material in mda module",
         "418",
         "13.486351490020752",
         "186ac7b2-ae74-43f1-a071-553f312e5c6a.36515c62-8878-4f10-a7f4-561a4c17bef7",
         "07/31/2024, 10:51:09"
        ],
        [
         "4",
         "5",
         "Which Widgets can I use in the hmi client",
         "253",
         "11.453571557998657",
         "feb28430-fa54-4b67-a7e1-24261a7e2bce.01eeb0e4-b179-42b4-aa5c-295bcb9dfe7e",
         "07/31/2024, 10:52:13"
        ],
        [
         "5",
         "6",
         "How can I add an alternative component to a bom not using an api",
         "311",
         "12.446308851242065",
         "feb28430-fa54-4b67-a7e1-24261a7e2bce.01eeb0e4-b179-42b4-aa5c-295bcb9dfe7e",
         "07/31/2024, 15:19:26"
        ],
        [
         "6",
         "7",
         "How can I add an alternative component to a bom not using an api",
         "236",
         "12.8063063621521",
         "feb28430-fa54-4b67-a7e1-24261a7e2bce.01eeb0e4-b179-42b4-aa5c-295bcb9dfe7e",
         "08/01/2024, 06:37:13"
        ],
        [
         "7",
         "8",
         "Which 10 steps do I need to make to configure an ams observer",
         "223",
         "14.83042049407959",
         "186ac7b2-ae74-43f1-a071-553f312e5c6a.36515c62-8878-4f10-a7f4-561a4c17bef7",
         "08/01/2024, 06:38:57"
        ],
        [
         "8",
         "9",
         "Write me an sql statement to get me all serialnumbers of current running workorders",
         "80",
         "5.4976277351379395",
         "186ac7b2-ae74-43f1-a071-553f312e5c6a.36515c62-8878-4f10-a7f4-561a4c17bef7",
         "08/01/2024, 06:40:03"
        ],
        [
         "9",
         "10",
         "ml bestellungen welcher bestelltyp?",
         "127",
         "7.927522659301758",
         "b0aa763e-9a06-47a8-a5d0-73e923a2f712.36515c62-8878-4f10-a7f4-561a4c17bef7",
         "08/01/2024, 06:42:33"
        ],
        [
         "10",
         "11",
         "How can I add an alternative component to a bom not using an api",
         "303",
         "14.085540533065796",
         "feb28430-fa54-4b67-a7e1-24261a7e2bce.01eeb0e4-b179-42b4-aa5c-295bcb9dfe7e",
         "08/01/2024, 14:00:28"
        ],
        [
         "11",
         "12",
         "How can I add a document to a material in mda module",
         "303",
         "11.269731760025024",
         "feb28430-fa54-4b67-a7e1-24261a7e2bce.01eeb0e4-b179-42b4-aa5c-295bcb9dfe7e",
         "08/01/2024, 14:01:56"
        ],
        [
         "12",
         "13",
         "Where can i check how many licenses i have in the system",
         "107",
         "8.775055885314941",
         "feb28430-fa54-4b67-a7e1-24261a7e2bce.01eeb0e4-b179-42b4-aa5c-295bcb9dfe7e",
         "08/01/2024, 12:42:36"
        ],
        [
         "13",
         "14",
         "Where can i check how many licenses i have in the system",
         "145",
         "12.07095217704773",
         "feb28430-fa54-4b67-a7e1-24261a7e2bce.01eeb0e4-b179-42b4-aa5c-295bcb9dfe7e",
         "08/01/2024, 12:53:51"
        ],
        [
         "14",
         "15",
         "Welche API can ich nutzen um eine Seriennummer einem Shipping Container zuzuweisen?",
         "285",
         "10.520041704177856",
         "8ed525d6-e0da-4c94-ad86-6e976b7d57e3.36515c62-8878-4f10-a7f4-561a4c17bef7",
         "08/01/2024, 14:00:10"
        ],
        [
         "15",
         "16",
         "Kannst du mir hierzu ein generisches Program in Java Skript erstellen?",
         "382",
         "14.087275505065918",
         "8ed525d6-e0da-4c94-ad86-6e976b7d57e3.36515c62-8878-4f10-a7f4-561a4c17bef7",
         "08/01/2024, 14:01:25"
        ],
        [
         "16",
         "17",
         "wie kann ich einen gesperrten Artikel wieder zum bearbeiten freigeben (Stammdaten -> Artikelstamm)",
         "239",
         "12.679909706115723",
         "45b0a0e5-b777-4942-b18c-2470699c22ca.36515c62-8878-4f10-a7f4-561a4c17bef7",
         "08/02/2024, 08:48:24"
        ],
        [
         "17",
         "18",
         "Wie weiße ich Kavitäten einem Equipment hinzu?",
         "227",
         "8.994885206222534",
         "45b0a0e5-b777-4942-b18c-2470699c22ca.36515c62-8878-4f10-a7f4-561a4c17bef7",
         "08/02/2024, 09:58:59"
        ],
        [
         "18",
         "19",
         "kann ich eine betriebsmittelgruppe rüsten?",
         "302",
         "10.247746706008911",
         "45b0a0e5-b777-4942-b18c-2470699c22ca.36515c62-8878-4f10-a7f4-561a4c17bef7",
         "08/05/2024, 05:24:56"
        ],
        [
         "19",
         "20",
         "Für was gibt es Betriebsmittelgruppen?",
         "91",
         "7.121360778808594",
         "45b0a0e5-b777-4942-b18c-2470699c22ca.36515c62-8878-4f10-a7f4-561a4c17bef7",
         "08/05/2024, 06:18:49"
        ],
        [
         "20",
         "21",
         "Which Widgets can I use in the hmi client",
         "171",
         "8.55657434463501",
         "186ac7b2-ae74-43f1-a071-553f312e5c6a.36515c62-8878-4f10-a7f4-561a4c17bef7",
         "08/05/2024, 07:33:58"
        ],
        [
         "21",
         "22",
         "mit welcher API erstelle ich ein Mehrfachnutzen mit den folgen Seriennummern \"Sheet-010\", \"Sheet-011\", \"Sheet-012\", \"Sheet-013\"",
         "558",
         "15.123727083206177",
         "45b0a0e5-b777-4942-b18c-2470699c22ca.36515c62-8878-4f10-a7f4-561a4c17bef7",
         "08/05/2024, 11:02:10"
        ],
        [
         "22",
         "23",
         "Welche Parameter kann ich bei failureslips setzten bei der api trgetserialnumberhistorydata",
         "15",
         "4.59674334526062",
         "186ac7b2-ae74-43f1-a071-553f312e5c6a.36515c62-8878-4f10-a7f4-561a4c17bef7",
         "08/05/2024, 13:55:10"
        ],
        [
         "23",
         "24",
         "Welche Parameter kann ich bei failureslips setzten bei der api trgetserialnumberhistorydata",
         "239",
         "13.851496696472168",
         "186ac7b2-ae74-43f1-a071-553f312e5c6a.36515c62-8878-4f10-a7f4-561a4c17bef7",
         "08/05/2024, 13:55:34"
        ],
        [
         "24",
         "25",
         "-104",
         "29",
         "6.4009010791778564",
         "b0aa763e-9a06-47a8-a5d0-73e923a2f712.36515c62-8878-4f10-a7f4-561a4c17bef7",
         "08/06/2024, 07:59:41"
        ],
        [
         "25",
         "26",
         "What is parameter 7400 doing",
         "85",
         "7.172455310821533",
         "186ac7b2-ae74-43f1-a071-553f312e5c6a.36515c62-8878-4f10-a7f4-561a4c17bef7",
         "08/06/2024, 08:33:29"
        ],
        [
         "26",
         "27",
         "wo finde ich den artikel in der datenbank",
         "446",
         "14.138128995895386",
         "b0aa763e-9a06-47a8-a5d0-73e923a2f712.36515c62-8878-4f10-a7f4-561a4c17bef7",
         "08/06/2024, 13:38:50"
        ],
        [
         "27",
         "28",
         "do you know the database structure?",
         "446",
         "14.46999716758728",
         "b0aa763e-9a06-47a8-a5d0-73e923a2f712.36515c62-8878-4f10-a7f4-561a4c17bef7",
         "08/06/2024, 13:41:30"
        ],
        [
         "28",
         "29",
         "how to check if a setup is okay",
         "271",
         "9.979226112365723",
         "maksiu",
         "08/07/2024, 10:17:36"
        ],
        [
         "29",
         "30",
         "what is parameter 26002?",
         "97",
         "6.206540584564209",
         "be1c4dc4-a665-423b-bf1f-f2621c34e9b3.36515c62-8878-4f10-a7f4-561a4c17bef7",
         "08/07/2024, 14:20:46"
        ],
        [
         "30",
         "31",
         "is there another parameter with the same number related to passwords?",
         "105",
         "7.125263214111328",
         "be1c4dc4-a665-423b-bf1f-f2621c34e9b3.36515c62-8878-4f10-a7f4-561a4c17bef7",
         "08/07/2024, 14:22:28"
        ],
        [
         "31",
         "32",
         "How can I add an alternative component to a bom not using an api",
         "275",
         "9.921131610870361",
         "feb28430-fa54-4b67-a7e1-24261a7e2bce.01eeb0e4-b179-42b4-aa5c-295bcb9dfe7e",
         "08/08/2024, 07:26:58"
        ],
        [
         "32",
         "33",
         "How can I add an alternative component to a bom not using an api",
         "249",
         "9.262945652008057",
         "feb28430-fa54-4b67-a7e1-24261a7e2bce.01eeb0e4-b179-42b4-aa5c-295bcb9dfe7e",
         "09/08/2024, 18:57:51"
        ],
        [
         "33",
         "34",
         "How can I add an alternative component to a bom not using an api",
         "190",
         "7.633216857910156",
         "feb28430-fa54-4b67-a7e1-24261a7e2bce.01eeb0e4-b179-42b4-aa5c-295bcb9dfe7e",
         "09/08/2024, 18:59:07"
        ],
        [
         "34",
         "35",
         "How can I add an alternative component to a bom not using an api",
         "283",
         "9.23385238647461",
         "feb28430-fa54-4b67-a7e1-24261a7e2bce.01eeb0e4-b179-42b4-aa5c-295bcb9dfe7e",
         "09/08/2024, 19:00:30"
        ],
        [
         "35",
         "36",
         "How can I add an alternative component to a bom not using an api",
         "298",
         "9.70154619216919",
         "feb28430-fa54-4b67-a7e1-24261a7e2bce.01eeb0e4-b179-42b4-aa5c-295bcb9dfe7e",
         "09/08/2024, 19:01:25"
        ],
        [
         "36",
         "37",
         "How can I add an alternative component to a bom not using an api",
         "226",
         "8.353430986404419",
         "feb28430-fa54-4b67-a7e1-24261a7e2bce.01eeb0e4-b179-42b4-aa5c-295bcb9dfe7e",
         "09/08/2024, 19:02:24"
        ],
        [
         "37",
         "38",
         "How can I add an alternative component to a bom not using an api",
         "246",
         "9.64326524734497",
         "feb28430-fa54-4b67-a7e1-24261a7e2bce.01eeb0e4-b179-42b4-aa5c-295bcb9dfe7e",
         "09/08/2024, 19:03:45"
        ],
        [
         "38",
         "39",
         "How can I add an alternative component to a bom not using an api",
         "250",
         "8.17054796218872",
         "feb28430-fa54-4b67-a7e1-24261a7e2bce.01eeb0e4-b179-42b4-aa5c-295bcb9dfe7e",
         "09/08/2024, 19:04:11"
        ],
        [
         "39",
         "40",
         "Where can i check how many licenses i have in the system",
         "121",
         "5.284846782684326",
         "feb28430-fa54-4b67-a7e1-24261a7e2bce.01eeb0e4-b179-42b4-aa5c-295bcb9dfe7e",
         "09/08/2024, 19:05:05"
        ],
        [
         "40",
         "41",
         "Which Widgets can I use in the hmi client",
         "117",
         "7.029876470565796",
         "feb28430-fa54-4b67-a7e1-24261a7e2bce.01eeb0e4-b179-42b4-aa5c-295bcb9dfe7e",
         "09/08/2024, 19:06:11"
        ],
        [
         "41",
         "42",
         "Where can i check how many licenses i have in the system",
         "136",
         "6.008358955383301",
         "feb28430-fa54-4b67-a7e1-24261a7e2bce.01eeb0e4-b179-42b4-aa5c-295bcb9dfe7e",
         "09/08/2024, 19:06:54"
        ],
        [
         "42",
         "43",
         "How can I add an alternative component to a bom not using an api",
         "314",
         "10.503343105316162",
         "feb28430-fa54-4b67-a7e1-24261a7e2bce.01eeb0e4-b179-42b4-aa5c-295bcb9dfe7e",
         "09/08/2024, 19:07:49"
        ],
        [
         "43",
         "44",
         "How can I add an alternative component to a bom not using an api",
         "201",
         "7.182959318161011",
         "feb28430-fa54-4b67-a7e1-24261a7e2bce.01eeb0e4-b179-42b4-aa5c-295bcb9dfe7e",
         "09/08/2024, 19:08:30"
        ],
        [
         "44",
         "45",
         "How can I add an alternative component to a bom not using an api",
         "304",
         "8.558550119400024",
         "feb28430-fa54-4b67-a7e1-24261a7e2bce.01eeb0e4-b179-42b4-aa5c-295bcb9dfe7e",
         "09/08/2024, 19:09:04"
        ],
        [
         "45",
         "46",
         "How can I add an alternative component to a bom not using an api",
         "183",
         "7.418195724487305",
         "feb28430-fa54-4b67-a7e1-24261a7e2bce.01eeb0e4-b179-42b4-aa5c-295bcb9dfe7e",
         "09/08/2024, 19:09:43"
        ],
        [
         "46",
         "47",
         "How can I add an alternative component to a bom not using an api",
         "251",
         "8.817997932434082",
         "feb28430-fa54-4b67-a7e1-24261a7e2bce.01eeb0e4-b179-42b4-aa5c-295bcb9dfe7e",
         "09/08/2024, 19:10:29"
        ],
        [
         "47",
         "48",
         "How can I add an alternative component to a bom not using an api",
         "200",
         "7.1032421588897705",
         "feb28430-fa54-4b67-a7e1-24261a7e2bce.01eeb0e4-b179-42b4-aa5c-295bcb9dfe7e",
         "09/08/2024, 19:11:56"
        ],
        [
         "48",
         "49",
         "How can I add an alternative component to a bom not using an api",
         "270",
         "15.616094589233398",
         "feb28430-fa54-4b67-a7e1-24261a7e2bce.01eeb0e4-b179-42b4-aa5c-295bcb9dfe7e",
         "09/08/2024, 19:12:47"
        ],
        [
         "49",
         "50",
         "wenn ich mit trsplit panel nutzen will auf dem nur noch 2 Boards sind, führt das zu einem Fehler ?",
         "245",
         "10.221431970596313",
         "45b0a0e5-b777-4942-b18c-2470699c22ca.36515c62-8878-4f10-a7f4-561a4c17bef7",
         "08/12/2024, 08:43:51"
        ]
       ],
       "shape": {
        "columns": 6,
        "rows": 8520
       }
      },
      "text/html": [
       "<div>\n",
       "<style scoped>\n",
       "    .dataframe tbody tr th:only-of-type {\n",
       "        vertical-align: middle;\n",
       "    }\n",
       "\n",
       "    .dataframe tbody tr th {\n",
       "        vertical-align: top;\n",
       "    }\n",
       "\n",
       "    .dataframe thead th {\n",
       "        text-align: right;\n",
       "    }\n",
       "</style>\n",
       "<table border=\"1\" class=\"dataframe\">\n",
       "  <thead>\n",
       "    <tr style=\"text-align: right;\">\n",
       "      <th></th>\n",
       "      <th>RowKey</th>\n",
       "      <th>Question</th>\n",
       "      <th>Tokens</th>\n",
       "      <th>RetrievalTime</th>\n",
       "      <th>UserID</th>\n",
       "      <th>Date</th>\n",
       "    </tr>\n",
       "  </thead>\n",
       "  <tbody>\n",
       "    <tr>\n",
       "      <th>0</th>\n",
       "      <td>1</td>\n",
       "      <td>How can I add a document to a material in mda ...</td>\n",
       "      <td>246</td>\n",
       "      <td>9.308475</td>\n",
       "      <td>feb28430-fa54-4b67-a7e1-24261a7e2bce.01eeb0e4-...</td>\n",
       "      <td>07/31/2024, 11:46:57</td>\n",
       "    </tr>\n",
       "    <tr>\n",
       "      <th>1</th>\n",
       "      <td>2</td>\n",
       "      <td>How can I add an alternative component to a bo...</td>\n",
       "      <td>254</td>\n",
       "      <td>10.236339</td>\n",
       "      <td>feb28430-fa54-4b67-a7e1-24261a7e2bce.01eeb0e4-...</td>\n",
       "      <td>07/31/2024, 10:48:17</td>\n",
       "    </tr>\n",
       "    <tr>\n",
       "      <th>2</th>\n",
       "      <td>3</td>\n",
       "      <td>How can I add an alternative component to a bo...</td>\n",
       "      <td>266</td>\n",
       "      <td>11.503325</td>\n",
       "      <td>feb28430-fa54-4b67-a7e1-24261a7e2bce.01eeb0e4-...</td>\n",
       "      <td>07/31/2024, 10:50:29</td>\n",
       "    </tr>\n",
       "    <tr>\n",
       "      <th>3</th>\n",
       "      <td>4</td>\n",
       "      <td>How can I add a document to a material in mda ...</td>\n",
       "      <td>418</td>\n",
       "      <td>13.486351</td>\n",
       "      <td>186ac7b2-ae74-43f1-a071-553f312e5c6a.36515c62-...</td>\n",
       "      <td>07/31/2024, 10:51:09</td>\n",
       "    </tr>\n",
       "    <tr>\n",
       "      <th>4</th>\n",
       "      <td>5</td>\n",
       "      <td>Which Widgets can I use in the hmi client</td>\n",
       "      <td>253</td>\n",
       "      <td>11.453572</td>\n",
       "      <td>feb28430-fa54-4b67-a7e1-24261a7e2bce.01eeb0e4-...</td>\n",
       "      <td>07/31/2024, 10:52:13</td>\n",
       "    </tr>\n",
       "    <tr>\n",
       "      <th>...</th>\n",
       "      <td>...</td>\n",
       "      <td>...</td>\n",
       "      <td>...</td>\n",
       "      <td>...</td>\n",
       "      <td>...</td>\n",
       "      <td>...</td>\n",
       "    </tr>\n",
       "    <tr>\n",
       "      <th>8515</th>\n",
       "      <td>8516</td>\n",
       "      <td>site parameter and server parameter difference</td>\n",
       "      <td>683</td>\n",
       "      <td>12.950000</td>\n",
       "      <td>3def626a-40c5-460b-8141-01b6163ef175.36515c62-...</td>\n",
       "      <td>26/05/2025, 11:03:59</td>\n",
       "    </tr>\n",
       "    <tr>\n",
       "      <th>8516</th>\n",
       "      <td>8517</td>\n",
       "      <td>what is id moda</td>\n",
       "      <td>364</td>\n",
       "      <td>9.040000</td>\n",
       "      <td>5397fdfe-6887-40a5-b812-71f385a73c58.36515c62-...</td>\n",
       "      <td>26/05/2025, 11:10:41</td>\n",
       "    </tr>\n",
       "    <tr>\n",
       "      <th>8517</th>\n",
       "      <td>8518</td>\n",
       "      <td>wha is the station parameter for password scrap</td>\n",
       "      <td>229</td>\n",
       "      <td>8.920000</td>\n",
       "      <td>3def626a-40c5-460b-8141-01b6163ef175.36515c62-...</td>\n",
       "      <td>26/05/2025, 11:18:42</td>\n",
       "    </tr>\n",
       "    <tr>\n",
       "      <th>8518</th>\n",
       "      <td>8519</td>\n",
       "      <td>On-premise, Cloud, hybrid? Which options are a...</td>\n",
       "      <td>321</td>\n",
       "      <td>10.950000</td>\n",
       "      <td>7145a54b-2f31-4a2e-9aa0-cf17f41e076c.36515c62-...</td>\n",
       "      <td>26/05/2025, 11:43:40</td>\n",
       "    </tr>\n",
       "    <tr>\n",
       "      <th>8519</th>\n",
       "      <td>8520</td>\n",
       "      <td>Master data description maintainable in multip...</td>\n",
       "      <td>440</td>\n",
       "      <td>10.440000</td>\n",
       "      <td>7145a54b-2f31-4a2e-9aa0-cf17f41e076c.36515c62-...</td>\n",
       "      <td>26/05/2025, 12:06:26</td>\n",
       "    </tr>\n",
       "  </tbody>\n",
       "</table>\n",
       "<p>8520 rows × 6 columns</p>\n",
       "</div>"
      ],
      "text/plain": [
       "      RowKey                                           Question  Tokens  \\\n",
       "0          1  How can I add a document to a material in mda ...     246   \n",
       "1          2  How can I add an alternative component to a bo...     254   \n",
       "2          3  How can I add an alternative component to a bo...     266   \n",
       "3          4  How can I add a document to a material in mda ...     418   \n",
       "4          5          Which Widgets can I use in the hmi client     253   \n",
       "...      ...                                                ...     ...   \n",
       "8515    8516     site parameter and server parameter difference     683   \n",
       "8516    8517                                    what is id moda     364   \n",
       "8517    8518    wha is the station parameter for password scrap     229   \n",
       "8518    8519  On-premise, Cloud, hybrid? Which options are a...     321   \n",
       "8519    8520  Master data description maintainable in multip...     440   \n",
       "\n",
       "      RetrievalTime                                             UserID  \\\n",
       "0          9.308475  feb28430-fa54-4b67-a7e1-24261a7e2bce.01eeb0e4-...   \n",
       "1         10.236339  feb28430-fa54-4b67-a7e1-24261a7e2bce.01eeb0e4-...   \n",
       "2         11.503325  feb28430-fa54-4b67-a7e1-24261a7e2bce.01eeb0e4-...   \n",
       "3         13.486351  186ac7b2-ae74-43f1-a071-553f312e5c6a.36515c62-...   \n",
       "4         11.453572  feb28430-fa54-4b67-a7e1-24261a7e2bce.01eeb0e4-...   \n",
       "...             ...                                                ...   \n",
       "8515      12.950000  3def626a-40c5-460b-8141-01b6163ef175.36515c62-...   \n",
       "8516       9.040000  5397fdfe-6887-40a5-b812-71f385a73c58.36515c62-...   \n",
       "8517       8.920000  3def626a-40c5-460b-8141-01b6163ef175.36515c62-...   \n",
       "8518      10.950000  7145a54b-2f31-4a2e-9aa0-cf17f41e076c.36515c62-...   \n",
       "8519      10.440000  7145a54b-2f31-4a2e-9aa0-cf17f41e076c.36515c62-...   \n",
       "\n",
       "                      Date  \n",
       "0     07/31/2024, 11:46:57  \n",
       "1     07/31/2024, 10:48:17  \n",
       "2     07/31/2024, 10:50:29  \n",
       "3     07/31/2024, 10:51:09  \n",
       "4     07/31/2024, 10:52:13  \n",
       "...                    ...  \n",
       "8515  26/05/2025, 11:03:59  \n",
       "8516  26/05/2025, 11:10:41  \n",
       "8517  26/05/2025, 11:18:42  \n",
       "8518  26/05/2025, 11:43:40  \n",
       "8519  26/05/2025, 12:06:26  \n",
       "\n",
       "[8520 rows x 6 columns]"
      ]
     },
     "execution_count": 59,
     "metadata": {},
     "output_type": "execute_result"
    }
   ],
   "source": [
    "df = pd.read_excel('questionStats (12).xlsx')\n",
    "df"
   ]
  },
  {
   "cell_type": "code",
   "execution_count": 73,
   "id": "ac832d0f",
   "metadata": {},
   "outputs": [
    {
     "data": {
      "application/vnd.microsoft.datawrangler.viewer.v0+json": {
       "columns": [
        {
         "name": "Month",
         "rawType": "object",
         "type": "string"
        },
        {
         "name": "count",
         "rawType": "int64",
         "type": "integer"
        }
       ],
       "ref": "9a8db54d-0d62-4141-9d87-8da99af06f3f",
       "rows": [
        [
         "2024-09",
         "327"
        ],
        [
         "2024-10",
         "49"
        ],
        [
         "2024-11",
         "1053"
        ],
        [
         "2024-12",
         "869"
        ],
        [
         "2025-01",
         "1369"
        ],
        [
         "2025-02",
         "1284"
        ],
        [
         "2025-03",
         "1199"
        ],
        [
         "2025-04",
         "1138"
        ],
        [
         "2025-05",
         "872"
        ]
       ],
       "shape": {
        "columns": 1,
        "rows": 9
       }
      },
      "text/plain": [
       "Month\n",
       "2024-09     327\n",
       "2024-10      49\n",
       "2024-11    1053\n",
       "2024-12     869\n",
       "2025-01    1369\n",
       "2025-02    1284\n",
       "2025-03    1199\n",
       "2025-04    1138\n",
       "2025-05     872\n",
       "Name: count, dtype: int64"
      ]
     },
     "execution_count": 73,
     "metadata": {},
     "output_type": "execute_result"
    }
   ],
   "source": [
    "df = df[40:]\n",
    "df[\"Date\"] = pd.to_datetime(df[\"Date\"], format=\"%d/%m/%Y, %H:%M:%S\", exact=True)\n",
    "df[\"Date\"] = df[\"Date\"].dt.date\n",
    "df[\"Month\"] = df[\"Date\"].apply(lambda x: x.strftime(\"%Y-%m\"))\n",
    "usage = df.value_counts(\"Month\").sort_index()\n",
    "usage"
   ]
  },
  {
   "cell_type": "code",
   "execution_count": null,
   "id": "17b46120",
   "metadata": {},
   "outputs": [
    {
     "data": {
      "image/png": "[encoded data removed]",
      "text/plain": [
       "<Figure size 1200x600 with 1 Axes>"
      ]
     },
     "metadata": {},
     "output_type": "display_data"
    }
   ],
   "source": [
    "plt.figure(figsize=(12, 6))\n",
    "sns.set_theme(style=\"whitegrid\")\n",
    "sns.barplot(x=usage.index, y=usage.values, color=\"blue\")\n",
    "plt.xticks(rotation=45)\n",
    "plt.xlabel(\"Month\")\n",
    "plt.ylabel(\"Number of Questions\")\n",
    "plt.title(\"Number of Questions Asked per Month. Data for 25.05.2025\")\n",
    "plt.tight_layout()\n",
    "plt.savefig(\"questions_per_month.png\")"
   ]
  }
 ],
 "metadata": {
  "kernelspec": {
   "display_name": ".venv",
   "language": "python",
   "name": "python3"
  },
  "language_info": {
   "codemirror_mode": {
    "name": "ipython",
    "version": 3
   },
   "file_extension": ".py",
   "mimetype": "text/x-python",
   "name": "python",
   "nbconvert_exporter": "python",
   "pygments_lexer": "ipython3",
   "version": "3.12.2"
  }
 },
 "nbformat": 4,
 "nbformat_minor": 5
}
